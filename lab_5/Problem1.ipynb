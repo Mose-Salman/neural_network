{
 "cells": [
  {
   "cell_type": "markdown",
   "metadata": {},
   "source": [
    "## Lab 5, Problem 1\n",
    "\n",
    "a) Explain why the inverse matrix M −1 can be used to calculate ⃗v−1 , the hypothetical state vector one\n",
    "week before the revolution. Use np.linalg.inv(M) to calculate the inverse matrix and ⃗v−1 . What’s\n",
    "the problem with this state?"
   ]
  },
  {
   "cell_type": "markdown",
   "metadata": {},
   "source": [
    "b) Make the constructor of Markov more robust by including a dimension check of v0 and M using the len\n",
    "function"
   ]
  },
  {
   "cell_type": "code",
   "execution_count": 12,
   "metadata": {},
   "outputs": [],
   "source": [
    "import numpy as np\n",
    "import matplotlib.pyplot as plt\n",
    "\n",
    "class Markov():\n",
    "    def __init__(self, v0, M, colors = []):\n",
    "        self.__i = 0\n",
    "        self.__v = [v0]\n",
    "        self.__M = M\n",
    "        self.colors = colors\n",
    "               \n",
    "    def __str__(self):\n",
    "        return \"Timestep: {}\\nState: {}\".format(self.__i, self.__v[-1])\n",
    "    \n",
    "    def evolve(self):\n",
    "        self.__v.append( np.dot(self.__M, self.__v[-1]) )\n",
    "        self.__i += 1\n",
    "\n",
    "    # Evolve the system by n steps\n",
    "    def batchEvolve(self, n):\n",
    "        for _ in range(n):\n",
    "            self.evolve()\n",
    "\n",
    "    # Verify total number of voters remains constant\n",
    "    def voters_constant(self):\n",
    "        total_voters = np.sum(self.__v[0])\n",
    "        return np.allclose([np.sum(v) for v in self.__v], total_voters)\n",
    "\n",
    "    # Plot the number of voters for each party as a function of time\n",
    "    def plot_voters(self):\n",
    "        voters = np.array(self.__v)\n",
    "        for i, color in enumerate(self.colors):\n",
    "            plt.plot(voters[:, i], label=f'Party {i+1}', color=color)\n",
    "        plt.xlabel('Time Steps')\n",
    "        plt.ylabel('Number of Voters')\n",
    "        plt.title('Voters vs. Time Steps')\n",
    "        plt.legend()\n",
    "        plt.show()\n",
    "\n",
    "    # Find the vectors associated with the λ = 1\n",
    "    def find_stable_state(self):\n",
    "        eigenvalues, eigenvectors = np.linalg.eig(self.__M)\n",
    "        return eigenvectors[:, np.isclose(eigenvalues, 1)].real.flatten()\n",
    "\n",
    "# 3x3 stochastic matrix M and initial state vector v0\n",
    "M = np.array([[0.5, 0.2, 0.3],\n",
    "              [0.4, 0.4, 0.2],\n",
    "              [0.1, 0.4, 0.5]])\n",
    "\n",
    "v0 = np.array([0.6, 0.3, 0.1])\n",
    "\n",
    "# Instantiate the Markov class with colors for the plot\n",
    "colors = ['red', 'green', 'blue']\n",
    "markov_model = Markov(v0, M, colors)"
   ]
  },
  {
   "cell_type": "markdown",
   "metadata": {},
   "source": [
    "c) Verify that the total number of voters remains constant by writing a method that returns a list of the\n",
    "sum of voters for every timestep."
   ]
  },
  {
   "cell_type": "code",
   "execution_count": 14,
   "metadata": {},
   "outputs": [
    {
     "name": "stdout",
     "output_type": "stream",
     "text": [
      "The total number of voters remains constant: True\n"
     ]
    }
   ],
   "source": [
    "voters_constant = markov_model.voters_constant()\n",
    "\n",
    "print(f\"The total number of voters remains constant: {voters_constant}\")"
   ]
  },
  {
   "cell_type": "markdown",
   "metadata": {},
   "source": [
    "d) Explain why ⃗v10 can be calculated via M 10 · ⃗v0 . Write a new method batchEvolve that allows you to\n",
    "calculate the next n timesteps via a single call."
   ]
  },
  {
   "cell_type": "code",
   "execution_count": 15,
   "metadata": {},
   "outputs": [],
   "source": [
    "markov_model.batchEvolve(100)"
   ]
  },
  {
   "cell_type": "markdown",
   "metadata": {},
   "source": [
    "e) Implement a method that plots the number of voters for every party as a function of time. Calculate\n",
    "the first 100 timesteps and create a plot. Describe your findings."
   ]
  },
  {
   "cell_type": "code",
   "execution_count": 16,
   "metadata": {},
   "outputs": [
    {
     "data": {
      "image/png": "[encoded data removed]",
      "text/plain": [
       "<Figure size 640x480 with 1 Axes>"
      ]
     },
     "metadata": {},
     "output_type": "display_data"
    }
   ],
   "source": [
    "markov_model.plot_voters()"
   ]
  },
  {
   "cell_type": "markdown",
   "metadata": {},
   "source": [
    "f) Why does the eigenvector vλ=1 associated with the eigenvalue λ = 1 represent the final state of the\n",
    "system v∞ ? Use np.linalg.eig(M) to calculate vλ=1 ."
   ]
  },
  {
   "cell_type": "code",
   "execution_count": 17,
   "metadata": {},
   "outputs": [
    {
     "name": "stdout",
     "output_type": "stream",
     "text": [
      "The stable state of the system (λ = 1): [0.57735027 0.57735027 0.57735027]\n"
     ]
    }
   ],
   "source": [
    "stable_state = markov_model.find_stable_state()\n",
    "print(f\"The stable state of the system (λ = 1): {stable_state}\")"
   ]
  }
 ],
 "metadata": {
  "kernelspec": {
   "display_name": "base",
   "language": "python",
   "name": "python3"
  },
  "language_info": {
   "codemirror_mode": {
    "name": "ipython",
    "version": 3
   },
   "file_extension": ".py",
   "mimetype": "text/x-python",
   "name": "python",
   "nbconvert_exporter": "python",
   "pygments_lexer": "ipython3",
   "version": "3.11.4"
  }
 },
 "nbformat": 4,
 "nbformat_minor": 2
}
