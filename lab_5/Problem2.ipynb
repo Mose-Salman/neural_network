{
 "cells": [
  {
   "cell_type": "markdown",
   "metadata": {},
   "source": [
    "## Lab 5, Problem 2\n",
    "\n",
    "Python has no built-in datatype to deal with mathematical fractions. In this task, you will implement a\n",
    "new class Fraction to fix that issue and carry out basic arithmetical operations by overloading fundamental\n",
    "operators. In Python, this can be done by implementing magic methods with a certain name."
   ]
  },
  {
   "cell_type": "markdown",
   "metadata": {},
   "source": [
    "a) Create a class frac with a constructor __init__(self,p,q) that takes two integer arguments p and\n",
    "q representing the numerator and the denominator. Make sure that the letter is not zero."
   ]
  },
  {
   "cell_type": "markdown",
   "metadata": {},
   "source": [
    "d) After adding two fractions, one usually has to clear up the sum by shortening it, i.e. dividing both\n",
    "numerator and denominator by the greatest common divisor. Write a method short(self) that\n",
    "performs that task."
   ]
  },
  {
   "cell_type": "code",
   "execution_count": 4,
   "metadata": {},
   "outputs": [],
   "source": [
    "class Fraction:\n",
    "    def __init__(self, numerator, denominator):\n",
    "        if denominator == 0:\n",
    "            raise ValueError(\"Denominator cannot be zero.\")\n",
    "        self.numerator = numerator\n",
    "        self.denominator = denominator\n",
    "\n",
    "    def __str__(self):\n",
    "        return f\"{self.numerator}/{self.denominator}\"\n",
    "\n",
    "    def _gcd(self, a, b):\n",
    "        \"\"\"Compute the greatest common divisor of a and b\"\"\"\n",
    "        while b != 0:\n",
    "            a, b = b, a % b\n",
    "        return a\n",
    "\n",
    "    def short(self):\n",
    "        \"\"\"Shorten the fraction by dividing both the numerator and the denominator\n",
    "        by their greatest common divisor.\"\"\"\n",
    "        gcd = self._gcd(self.numerator, self.denominator)\n",
    "        self.numerator //= gcd\n",
    "        self.denominator //= gcd\n",
    "        return self\n",
    "\n",
    "    def __add__(self, other):\n",
    "        if not isinstance(other, Fraction):\n",
    "            raise TypeError(\"Can only add Fraction to Fraction.\")\n",
    "        new_numerator = self.numerator * other.denominator + other.numerator * self.denominator\n",
    "        new_denominator = self.denominator * other.denominator\n",
    "        return Fraction(new_numerator, new_denominator).short()"
   ]
  },
  {
   "cell_type": "markdown",
   "metadata": {},
   "source": [
    "b) To print a frac object, we need to specify a string representation of it. For that, write a method\n",
    "__str__(self) that returns a string p / q. Verify that the print function now accepts frac objects\n",
    "and displays a proper fraction."
   ]
  },
  {
   "cell_type": "code",
   "execution_count": 5,
   "metadata": {},
   "outputs": [
    {
     "name": "stdout",
     "output_type": "stream",
     "text": [
      "1/2\n",
      "3/4\n"
     ]
    }
   ],
   "source": [
    "# Testing the class implementation\n",
    "frac1 = Fraction(1, 2)\n",
    "frac2 = Fraction(3, 4)\n",
    "\n",
    "\n",
    "print(frac1)  # Should display 1/2\n",
    "print(frac2)  # Should display 3/4\n"
   ]
  },
  {
   "cell_type": "markdown",
   "metadata": {},
   "source": [
    "c) To use the regular plus operator + to add two fractions, write a method __add__(self,b) that takes\n",
    "a second frac object and returns the sum as a frac."
   ]
  },
  {
   "cell_type": "code",
   "execution_count": 6,
   "metadata": {},
   "outputs": [
    {
     "name": "stdout",
     "output_type": "stream",
     "text": [
      "5/4\n"
     ]
    }
   ],
   "source": [
    "frac_sum = frac1 + frac2\n",
    "print(frac_sum)  # Should display 5/4 after adding and shortening"
   ]
  }
 ],
 "metadata": {
  "kernelspec": {
   "display_name": "base",
   "language": "python",
   "name": "python3"
  },
  "language_info": {
   "codemirror_mode": {
    "name": "ipython",
    "version": 3
   },
   "file_extension": ".py",
   "mimetype": "text/x-python",
   "name": "python",
   "nbconvert_exporter": "python",
   "pygments_lexer": "ipython3",
   "version": "3.11.4"
  }
 },
 "nbformat": 4,
 "nbformat_minor": 2
}
