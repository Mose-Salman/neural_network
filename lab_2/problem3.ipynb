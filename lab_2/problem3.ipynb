{
 "cells": [
  {
   "cell_type": "markdown",
   "metadata": {},
   "source": [
    "# Problem 3, Fibonacci"
   ]
  },
  {
   "cell_type": "code",
   "execution_count": 1,
   "metadata": {},
   "outputs": [
    {
     "name": "stdout",
     "output_type": "stream",
     "text": [
      "The largest Fibonacci number less than or equal to 2^64 - 1 is: 19740274219868223167\n"
     ]
    }
   ],
   "source": [
    "# Initialize a list fibo that contains the first two elements of the Fibonacci sequence.\n",
    "fibo = [0, 1] \n",
    "\n",
    "# An unsigned long integer typically uses 64 bits of storage\n",
    "# takes a Fibonacci list as argument and appends the next Fibonacci sequence element \n",
    "def fiboNext(fibo):\n",
    "    i = len(fibo) - 1\n",
    "    next_fibo = fibo[i] + fibo[i-1]\n",
    "    fibo.append(next_fibo)\n",
    "    return fibo\n",
    "\n",
    "# Calculate the largest Fibonacci number less than or equal to 2^64 - 1\n",
    "def calculate_largest_fibonacci():\n",
    "    while fibo[-1] < 2**64 - 1:\n",
    "        fiboNext(fibo)\n",
    "    return fibo[-1]\n",
    "\n",
    "# Test for task c)\n",
    "# print(fibo)\n",
    "# fibo = fiboNext(fibo)\n",
    "# print(fibo)\n",
    "# fibo = fiboNext(fibo)\n",
    "\n",
    "largest_fibonacci = calculate_largest_fibonacci()\n",
    "print(\"The largest Fibonacci number less than or equal to 2^64 - 1 is:\", largest_fibonacci)"
   ]
  },
  {
   "cell_type": "markdown",
   "metadata": {},
   "source": [
    "The largest number that could be calculated in python is linked to the RAM of the device. As python has a dynamic variable size that increases as needed"
   ]
  }
 ],
 "metadata": {
  "kernelspec": {
   "display_name": "Python 3",
   "language": "python",
   "name": "python3"
  },
  "language_info": {
   "codemirror_mode": {
    "name": "ipython",
    "version": 3
   },
   "file_extension": ".py",
   "mimetype": "text/x-python",
   "name": "python",
   "nbconvert_exporter": "python",
   "pygments_lexer": "ipython3",
   "version": "3.11.4"
  }
 },
 "nbformat": 4,
 "nbformat_minor": 2
}
