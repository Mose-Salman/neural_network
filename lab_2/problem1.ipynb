{
 "cells": [
  {
   "cell_type": "markdown",
   "metadata": {},
   "source": [
    "# Taylor Series "
   ]
  },
  {
   "cell_type": "markdown",
   "metadata": {},
   "source": [
    "The Taylor series is an infinite sum of terms based on a function's derivatives at a single point, often near that point. It's named after Brook Taylor and becomes a Maclaurin series when the point is 0, named after Colin Maclaurin. The series uses Taylor polynomials to approximate a function, with increasing accuracy as the degree of the polynomial (n) increases. Taylor's theorem quantifies the approximation error.\n",
    "\n",
    "f(a) = $ \\sum \\limits _{n = 0} ^{\\infty} \\frac{f^{n}(a)}{n!}(x-a)^{n}$\n",
    "\n",
    "The Taylor series of a real or complex-valued function f (x) that is infinitely differentiable at a real or complex number a is the power series where n! denotes the factorial of n.\n",
    "\n",
    "The Taylor series can be also used for analytic functions such as:\n",
    "\n",
    "1. The partial sums (the Taylor polynomials) of the series can be used as approximations of the function. These approximations are good if sufficiently many terms are included.\n",
    "2. Differentiation and integration of power series can be performed term by term and is hence particularly easy.\n",
    "3. An analytic function is uniquely extended to a holomorphic function on an open disk in the complex plane. This makes the machinery of complex analysis available.\n",
    "4. The (truncated) series can be used to compute function values numerically, (often by recasting the polynomial into the Chebyshev form and evaluating it with the Clenshaw algorithm).\n",
    "\n",
    "\n",
    "### Taylor series expansion of the sine:\n",
    "The Taylor series expansion of the sine function is a mathematical representation that approximates the sine function by breaking it down into an infinite sum of terms based on its derivatives at a chosen point, typically around zero. This expansion is a valuable tool for approximating the behavior of the sine function and is commonly used in calculus, trigonometry, and various mathematical and scientific applications.\n",
    "\n",
    "The Taylor series for sin(x) is given by:\n",
    "\n",
    "sin(x) = $ \\sum \\limits _{n = 0} ^{\\infty} (-1)^{n} \\frac{x^{2n+1}}{(2n+1)!}$\n",
    "\n",
    "The aproximation gets better with the number of sumantions we do, being infinite the exact copy of sine itself.\n",
    "\n",
    "<img src=\"sineTaylor.png\" width=\"1280\" height=\"720\">\n",
    "\n",
    "\n",
    "### Other usefull Taylor series expansions:\n",
    "\n",
    "| Functions   | Taylor series |\n",
    "| ----------- | ----------- |\n",
    "| $ \\frac{1}{1-x} $   | $ \\sum \\limits _{n = 0} ^{\\infty} (x)^{n}$ |\n",
    "| $ e^{x} $      | $ \\sum \\limits _{n = 0} ^{\\infty} \\frac{(x)^{n}}{n!}$ |\n",
    "| cos(x)   | $ \\sum \\limits _{n = 0} ^{\\infty} (-1)^{n} \\frac{x^{2n}}{(2n)!}$ |\n"
   ]
  }
 ],
 "metadata": {
  "kernelspec": {
   "display_name": "Python 3",
   "language": "python",
   "name": "python3"
  },
  "language_info": {
   "codemirror_mode": {
    "name": "ipython",
    "version": 3
   },
   "file_extension": ".py",
   "mimetype": "text/x-python",
   "name": "python",
   "nbconvert_exporter": "python",
   "pygments_lexer": "ipython3",
   "version": "3.10.12"
  }
 },
 "nbformat": 4,
 "nbformat_minor": 2
}
