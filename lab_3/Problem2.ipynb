{
 "cells": [
  {
   "cell_type": "markdown",
   "metadata": {},
   "source": [
    "## Lab 3, Problem 2 Equidistant letter sequences (ELS)"
   ]
  },
  {
   "cell_type": "markdown",
   "metadata": {},
   "source": [
    "Equidistant letter sequences (ELS) are hidden messages that are recovered by extracting every n-th character\n",
    "of some text. They are an ancient method of primitive cryptography and became some publicity in the 90s\n",
    "when some individuals claimed to have found secret messages in a number of sacred texts, e.g. the book of\n",
    "Genesis. "
   ]
  },
  {
   "cell_type": "markdown",
   "metadata": {},
   "source": [
    "The text file words.txt contains 58110 English words of varying obscureness.  We created a list\n",
    "words, read the file line by line and append every entry to the list. "
   ]
  },
  {
   "cell_type": "code",
   "execution_count": 5,
   "metadata": {},
   "outputs": [
    {
     "data": {
      "text/plain": [
       "['aardvark',\n",
       " 'aardwolf',\n",
       " 'aaron',\n",
       " 'aback',\n",
       " 'abacus',\n",
       " 'abaft',\n",
       " 'abalone',\n",
       " 'abandon',\n",
       " 'abandoned',\n",
       " 'abandonment']"
      ]
     },
     "execution_count": 5,
     "metadata": {},
     "output_type": "execute_result"
    }
   ],
   "source": [
    "words = []\n",
    "\n",
    "with open(\"words.txt\", \"r\") as file:\n",
    "    for line in file:\n",
    "        words.append(line.rstrip().lower())\n",
    "\n",
    "# Displaying the first few words for verification\n",
    "words[:10]\n"
   ]
  },
  {
   "cell_type": "markdown",
   "metadata": {},
   "source": [
    "Then we extracted every 43rd character from the holy text file of wikipedia_cpu_en.txt Checking the longest\n",
    "words that we have found and what secret message."
   ]
  },
  {
   "cell_type": "code",
   "execution_count": 6,
   "metadata": {},
   "outputs": [
    {
     "name": "stdout",
     "output_type": "stream",
     "text": [
      "['ado', 'agio', 'aim', 'aims', 'am', 'an', 'are', 'as', 'at', 'be', 'cess', 'con', 'dim', 'dirt', 'dirts', 'do', 'doe', 'dose', 'dr', 'ear', 'eat', 'eel', 'eg', 'eh', 'els', 'em', 'emu', 'emus', 'end', 'ere', 'err', 'flip', 'fop', 'gin', 'ha', 'hag', 'hat', 'he', 'hi', 'hit', 'ho', 'hue', 'id', 'if', 'im', 'in', 'inn', 'is', 'it', 'lip', 'lug', 'me', 'mr', 'ms', 'mu', 'mum', 'ne', 'nil', 'no', 'nu', 'oar', 'oars', 'ode', 'odes', 'of', 'oh', 'ok', 'old', 'on', 'or', 'ow', 'own', 'pa', 'pet', 're', 'ref', 'rep', 'rho', 'ria', 'rod', 'rode', 'sea', 'sear', 'seat', 'see', 'sin', 'sip', 'sir', 'sit', 'so', 'sos', 'sun', 'tap', 'tar', 'tat', 'tee', 'teen', 'ten', 'tend', 'tic', 'tie', 'to', 'toe', 'tog', 'toga', 'too', 'us', 'we', 'ye', 'yes']\n",
      "['dirts', 'agio', 'aims', 'cess', 'dirt', 'dose', 'emus', 'flip', 'oars', 'odes']\n"
     ]
    }
   ],
   "source": [
    "with open(\"wikipedia_cpu_en.txt\", \"r\") as file:\n",
    "    wikipedia_text = file.read()\n",
    "\n",
    "els_43 = wikipedia_text[::43]\n",
    "matched_words_43 = [word for word in words if els_43.find(word) != -1]\n",
    "longest_words_43 = sorted(matched_words_43, key=len, reverse=True)[:10]\n",
    "\n",
    "print(matched_words_43)\n",
    "print(longest_words_43)\n"
   ]
  },
  {
   "cell_type": "markdown",
   "metadata": {},
   "source": [
    "Afterwords we repeated the analysis for equidistant sequences with every 3rd up to every 100th letter. Counting the\n",
    "total length of text that we have searched through and collect all matches that we found in one list matches.\n"
   ]
  },
  {
   "cell_type": "code",
   "execution_count": 17,
   "metadata": {},
   "outputs": [
    {
     "name": "stdout",
     "output_type": "stream",
     "text": [
      "['representations', 'microelectronic', 'microprocessors', 'implementations', 'multiprocessing', 'implementation', 'disambiguation', 'specifications', 'supercomputers', 'interconnected']\n"
     ]
    }
   ],
   "source": [
    "# Modified analysis for ELS for every 3rd, 6th, 9th, ... up to 100th letter\n",
    "modified_matches = []\n",
    "for n in range(1, 101, 3):  # Step size of 3\n",
    "   els = wikipedia_text[::n]\n",
    "   matched = [word for word in words if els.find(word) != -1]\n",
    "   modified_matches.extend(matched)\n",
    "# Sorting the modified matches by length\n",
    "sorted_modified_matches = sorted(set(modified_matches), key=len, reverse=True)\n",
    "# Displaying the longest matched words from the modified analysis\n",
    "print(sorted_modified_matches[:10])"
   ]
  },
  {
   "cell_type": "markdown",
   "metadata": {},
   "source": [
    "Finally we used list comprehension to generate a list lengths containing the length of every item in matches."
   ]
  },
  {
   "cell_type": "code",
   "execution_count": 16,
   "metadata": {},
   "outputs": [
    {
     "data": {
      "image/png": "[encoded data removed]",
      "text/plain": [
       "<Figure size 640x480 with 1 Axes>"
      ]
     },
     "metadata": {},
     "output_type": "display_data"
    }
   ],
   "source": [
    "import matplotlib.pyplot as plt\n",
    "\n",
    "lengths = [len(match) for match in sorted_modified_matches]\n",
    "plt.hist(lengths, bins=range(1, max(lengths)+2), edgecolor='black', alpha=0.7)\n",
    "plt.xlabel(\"Word Length\")\n",
    "plt.ylabel(\"Frequency\")\n",
    "plt.title(\"Histogram of Word Lengths in Matches\")\n",
    "plt.show()\n"
   ]
  },
  {
   "cell_type": "markdown",
   "metadata": {},
   "source": [
    "The histogram displays the frequency of word lengths found in the equidistant letter sequences (ELS) extracted from the text. \n",
    "\n",
    "As can be observed:\n",
    "\n",
    "1. Shorter word lengths have a higher frequency, which makes intuitive sense as shorter sequences are more likely to occur by chance.\n",
    "2. As the word length increases, the frequency decreases."
   ]
  },
  {
   "cell_type": "markdown",
   "metadata": {},
   "source": [
    "\n",
    "\n",
    "Ice more likely to appear than disappointment, Shorter words like ice have higher probabilities of appearing in random sequences than longer words like disappointment simply due to the number of ways they can be formed within a text.\n",
    "\n",
    "Duck less likely to appear than nets The frequency of occurrence of individual letters and sequences of letters in the English language affects the probability. If the sequence nets or its individual letters are more common than duck or its letters, then \"nets\" would be more likely to appear."
   ]
  }
 ],
 "metadata": {
  "kernelspec": {
   "display_name": "base",
   "language": "python",
   "name": "python3"
  },
  "language_info": {
   "codemirror_mode": {
    "name": "ipython",
    "version": 3
   },
   "file_extension": ".py",
   "mimetype": "text/x-python",
   "name": "python",
   "nbconvert_exporter": "python",
   "pygments_lexer": "ipython3",
   "version": "3.11.4"
  }
 },
 "nbformat": 4,
 "nbformat_minor": 2
}
