{
 "cells": [
  {
   "cell_type": "markdown",
   "metadata": {},
   "source": [
    "## Lab 3, Problem 1\n",
    "\n",
    "a) Write a function decimalPlaces that takes two normalized floats in the range [1, 10), compares the\n",
    "decimals and returns how many decimal places are identical. For example, 1.2345 and 1.2356 are\n",
    "identical up to three decimals."
   ]
  },
  {
   "cell_type": "code",
   "execution_count": 1,
   "metadata": {},
   "outputs": [
    {
     "name": "stdout",
     "output_type": "stream",
     "text": [
      "Number of identical decimal places: 5\n"
     ]
    }
   ],
   "source": [
    "def decimalPlaces(a, b):\n",
    "    # Convert the floats to strings\n",
    "    a_str = str(a)    \n",
    "    b_str = str(b)\n",
    "    # Find the index of the decimal point in the strings.\n",
    "    a_decimal = a_str.split('.')[1]\n",
    "    b_decimal = b_str.split('.')[1]\n",
    "    # Calculate the number of identical decimal places\n",
    "    count = 0\n",
    "    min_length = min(len(a_decimal), len(b_decimal))\n",
    "    for i in range(min_length):\n",
    "        if a_decimal[i] == b_decimal[i]:\n",
    "            count += 1\n",
    "        else:\n",
    "            break\n",
    "    return count\n",
    "\n",
    "# test for decimalPlaces\n",
    "float1 = 3.14159\n",
    "float2 = 3.1415926\n",
    "decimal_places = decimalPlaces(float1, float2)\n",
    "print(f\"Number of identical decimal places: {decimal_places}\")"
   ]
  },
  {
   "cell_type": "markdown",
   "metadata": {},
   "source": [
    "b) Import the mpmath library and set the precision to 218. Start with x0 = 2, set a = 2 and perform up to n = 20 Newton iterations of √2. Store all values in a list."
   ]
  },
  {
   "cell_type": "code",
   "execution_count": 2,
   "metadata": {},
   "outputs": [
    {
     "name": "stdout",
     "output_type": "stream",
     "text": [
      "[2, 1.5, 1.4166666666666665, 1.4142156862745097, 1.4142135623746899, 1.414213562373095, 1.414213562373095, 1.414213562373095, 1.414213562373095, 1.414213562373095, 1.414213562373095, 1.414213562373095, 1.414213562373095, 1.414213562373095, 1.414213562373095, 1.414213562373095, 1.414213562373095, 1.414213562373095, 1.414213562373095, 1.414213562373095, 1.414213562373095]\n"
     ]
    }
   ],
   "source": [
    "from mpmath import mp\n",
    "\n",
    "mp.dps = 2**18 # Precision to 2^18\n",
    "\n",
    "def newton_method_sqrt(a, x0, n):\n",
    "    sequence = [x0]\n",
    "    for _ in range(n):\n",
    "        # Newton-Raphson formula\n",
    "        x_next = 0.5 * (sequence[-1] + a / sequence[-1])\n",
    "        sequence.append(x_next)\n",
    "    return sequence\n",
    "\n",
    "# Initial conditions\n",
    "x0 = 2\n",
    "a = 2\n",
    "\n",
    "result = newton_method_sqrt(a, x0, 20) # 20 Newton iterations for sqrt(2) \n",
    "\n",
    "print(result)"
   ]
  },
  {
   "cell_type": "markdown",
   "metadata": {},
   "source": [
    "c) Use your function decimalPlaces to find out how the Newton iteration sequence converges against √2. How many iterations are necessary to calculate √2 up to double precision? How many iterations would be necessary to calculate √2 up to one billion decimal places?"
   ]
  },
  {
   "cell_type": "code",
   "execution_count": 3,
   "metadata": {},
   "outputs": [
    {
     "name": "stdout",
     "output_type": "stream",
     "text": [
      "It took 5 iterations to converge to double precision.\n"
     ]
    }
   ],
   "source": [
    "def converge(a, x0, n):\n",
    "    sqrt_newton = newton_method_sqrt(a, x0, n)\n",
    "    sqrt_real = mp.sqrt(a)\n",
    "    for i, val in enumerate(sqrt_newton):\n",
    "        identical_places = decimalPlaces(float(val), float(sqrt_real))\n",
    "        if identical_places >= mp.dps - 1:\n",
    "            return i\n",
    "    return n\n",
    "\n",
    "# Calculate convergence for double precision (16 decimal places)\n",
    "mp.dps = 15\n",
    "convergence_iteration = converge(2, 2, 20)\n",
    "print(f\"It took {convergence_iteration} iterations to converge to double precision.\")\n",
    "\n",
    "\n",
    "\n",
    "# 1 BILLION DECIMAL POINTS WOULD TAKE TO MUCH COMPUTATION POWER\n",
    "# Calculate convergence for up to one billion decimal places\n",
    "\n",
    "# mpmath.mp.dps = 10**9\n",
    "# convergence_iteration_billion = converge(2, 2, 20)\n",
    "# print(f\"It took {convergence_iteration_billion} iterations to converge to one billion decimal places.\")\n"
   ]
  }
 ],
 "metadata": {
  "kernelspec": {
   "display_name": "base",
   "language": "python",
   "name": "python3"
  },
  "language_info": {
   "codemirror_mode": {
    "name": "ipython",
    "version": 3
   },
   "file_extension": ".py",
   "mimetype": "text/x-python",
   "name": "python",
   "nbconvert_exporter": "python",
   "pygments_lexer": "ipython3",
   "version": "3.11.4"
  }
 },
 "nbformat": 4,
 "nbformat_minor": 2
}
