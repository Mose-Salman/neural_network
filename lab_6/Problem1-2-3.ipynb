{
 "cells": [
  {
   "cell_type": "markdown",
   "metadata": {},
   "source": [
    "## Lab 6, Problem 1\n",
    "\n",
    "a) mnist_test.zip contains 10,000 images of handwritten digits following the name scheme\n",
    "test_XXXXX.gif\n",
    "where XXXXX is an integer with a field length of 5 and padding zeros. In addition, the archive contains\n",
    "a text file called labels.txt that holds the labels of the images, where line 1 corresponds to the first\n",
    "image, line 2 to the second image, and so on. Create a folder data and unzip the contents of the\n",
    "archive using\n",
    "\n",
    "        unzip -q mnist_test.zip -d data/"
   ]
  },
  {
   "cell_type": "markdown",
   "metadata": {},
   "source": [
    "b) Create a 1D Numpy array labels and read in all labels from labels.txt."
   ]
  },
  {
   "cell_type": "code",
   "execution_count": 1,
   "metadata": {},
   "outputs": [],
   "source": [
    "from PIL import Image\n",
    "import numpy as np\n",
    "import os\n",
    "\n",
    "# Read labels.txt to get the labels\n",
    "with open(\"data/labels.txt\", 'r') as f:\n",
    "    labels = np.array([int(line.strip()) for line in f])"
   ]
  },
  {
   "cell_type": "markdown",
   "metadata": {},
   "source": [
    "c) Create a 3D Numpy array test. The first dimension shall represent the image index (0 to 9999) while\n",
    "the second and third dimension represent the image pixels."
   ]
  },
  {
   "cell_type": "code",
   "execution_count": 2,
   "metadata": {},
   "outputs": [],
   "source": [
    "images = np.zeros((10000, 28, 28))"
   ]
  },
  {
   "cell_type": "markdown",
   "metadata": {},
   "source": [
    "d) Generate a list of all images imgNames using list comprehension. \n",
    "\n",
    "Hint: If your images are within a folder test/ (relative to the Notebook), you can use\n",
    "\n",
    "        filename = \" test / test_ \" + str ( i ) . zfill ( len ( str ( n ) ) ) + \" . png \"\n",
    "\n",
    "where i is the image index and n is the total number of images. You can also try listdir from the\n",
    "os module."
   ]
  },
  {
   "cell_type": "code",
   "execution_count": 3,
   "metadata": {},
   "outputs": [],
   "source": [
    "image_names = [f'test_{i:05d}.gif' for i in range(10000)]"
   ]
  },
  {
   "cell_type": "markdown",
   "metadata": {},
   "source": [
    "e) Iterate through all image files. In every iteration, load the associated image file, convert it to a Numpy\n",
    "array, divide it by 255 to normalize it to 1 and store it in test."
   ]
  },
  {
   "cell_type": "code",
   "execution_count": 4,
   "metadata": {},
   "outputs": [
    {
     "data": {
      "text/plain": [
       "(10000,)"
      ]
     },
     "execution_count": 4,
     "metadata": {},
     "output_type": "execute_result"
    }
   ],
   "source": [
    "for i, img_name in enumerate(image_names):\n",
    "    img_path = os.path.join(\"data/\", img_name)\n",
    "    with Image.open(img_path) as img:\n",
    "        images[i] = np.array(img) / 255\n",
    " \n",
    "labels.shape\n",
    "# images[0]"
   ]
  },
  {
   "cell_type": "markdown",
   "metadata": {},
   "source": [
    "## Lab 6, Problem 2\n",
    "\n",
    "a) Open Microsoft Paint, click on the Home ribbon, select resize and set the image size to 128 x 128\n",
    "pixels. Feel free to adjust the zoom level in the lower right part of the window. Select the Brush tool,\n",
    "chose the largest line size available and black color. Draw your favourite digit (0-9) and save it in the\n",
    "GIF format. Make sure that your hand-drawn digit fills the canvas and is nicely centred with roughly\n",
    "20 pixels margin to the top, bottom, left and right.\n",
    "\n",
    "\n",
    "<center><img src=\"MyFile.gif\" width=\"128\" height=\"128\"> </center>\n"
   ]
  },
  {
   "cell_type": "markdown",
   "metadata": {},
   "source": [
    "b) Use Pillow to load your hand-drawn number into a Jupyter notebook via:\n",
    "\n",
    "        img = Image.open(filename).convert(’L’) \n",
    "\n",
    "Call the rescaling method to downscale your image to 28 x 28 pixels.\n",
    "\n",
    "        imgRe = img.resize(size = (imgSize, imgSize))\n",
    "\n"
   ]
  },
  {
   "cell_type": "code",
   "execution_count": 5,
   "metadata": {},
   "outputs": [
    {
     "data": {
      "image/png": "[encoded data removed]",
      "text/plain": [
       "<Figure size 640x480 with 1 Axes>"
      ]
     },
     "metadata": {},
     "output_type": "display_data"
    }
   ],
   "source": [
    "import numpy as np\n",
    "from PIL import Image\n",
    "import matplotlib.pyplot as plt\n",
    " \n",
    "filename = 'MyFile.gif'\n",
    " \n",
    "# Load to grayscale ('L')\n",
    "img = Image.open(filename).convert('L')\n",
    " \n",
    "# Rescaling the image to 28x28 pixels\n",
    "imgSize = 28\n",
    "imgRe = img.resize((imgSize, imgSize))\n",
    " \n",
    "# Display the rescaled image\n",
    "plt.imshow(imgRe, cmap='gray')\n",
    "plt.show()"
   ]
  },
  {
   "cell_type": "markdown",
   "metadata": {},
   "source": [
    "c) Use plt .subplots to generate a single plot of five MNIST images of your digit. Discuss differences and\n",
    "similarities between your handwriting and the MNIST sample."
   ]
  },
  {
   "cell_type": "code",
   "execution_count": 6,
   "metadata": {},
   "outputs": [
    {
     "data": {
      "image/png": "[encoded data removed]",
      "text/plain": [
       "<Figure size 2400x200 with 6 Axes>"
      ]
     },
     "metadata": {},
     "output_type": "display_data"
    }
   ],
   "source": [
    "my_digit = 6\n",
    " \n",
    "# Find indices where the MNIST are 6\n",
    "indices = np.where(labels == my_digit)[0][:5]\n",
    " \n",
    "fig, axes = plt.subplots(1, 6, figsize=(24, 2))\n",
    " \n",
    "# My beautiful 6\n",
    "axes[0].imshow(imgRe, cmap='gray') \n",
    "axes[0].set_title('My Digit')\n",
    "axes[0].axis('off')\n",
    " \n",
    "# MNIST loop\n",
    "for i, idx in enumerate(indices):\n",
    "    axes[i+1].imshow(images[idx], cmap='gray')\n",
    "    axes[i+1].set_title(f'MNIST {my_digit}')\n",
    "    axes[i+1].axis('off')\n",
    "\n",
    "plt.show()"
   ]
  },
  {
   "cell_type": "markdown",
   "metadata": {},
   "source": [
    "## Lab 6, Problem 3\n",
    "\n",
    "a) Copy all the code that is required to create an instance of the class neuralNetwork."
   ]
  },
  {
   "cell_type": "code",
   "execution_count": 7,
   "metadata": {},
   "outputs": [],
   "source": [
    "def sigmoid(x):  # Sigmoid Function\n",
    "    return 1 / (1 + np.exp(-x))"
   ]
  },
  {
   "cell_type": "code",
   "execution_count": 8,
   "metadata": {},
   "outputs": [],
   "source": [
    "class neuralNetwork:\n",
    "    def __init__(self, iNodes, hNodes, oNodes, lRate):\n",
    "        # Number of input, hidden and output nodes\n",
    "        self.iNodes = iNodes\n",
    "        self.hNodes = hNodes\n",
    "        self.oNodes = oNodes  \n",
    "        # Weight matrices, wih and who, initialized with random numbers that follow a normal distribution\n",
    "        self.wih = np.random.normal(0.0, 0.5, (self.hNodes,self.iNodes))\n",
    "        self.who = np.random.normal(0.0, 0.5, (self.oNodes,self.hNodes))   \n",
    "        # Learning rate (for session 7)\n",
    "        self.lRate = lRate\n",
    "        # Activation function is the sigmoid function\n",
    "        self.actFunc = sigmoid\n",
    "    \n",
    "    def __str__(self):\n",
    "        return f\"Input nodes: {self.iNodes}, Hidden nodes: {self.hNodes}, Output nodes: {self.oNodes}, Learning rate: {self.lRate}, wih matrix shape: {self.wih.shape}, who matrix shape: {self.who.shape}\"\n",
    "        \n",
    "    def query(self, imgArr):\n",
    "        # Transform the image into a vector    \n",
    "        inputs = imgArr.flatten()\n",
    "        # Move signal into hidden layer\n",
    "        hiddenInputs = np.dot(self.wih, inputs)\n",
    "        # Apply the activation function\n",
    "        hiddenOutputs = self.actFunc(hiddenInputs)\n",
    "        # Move signal into output layer\n",
    "        outputs = np.dot(self.who, hiddenOutputs)\n",
    "        # Apply the activation function\n",
    "        prediction = self.actFunc(outputs)\n",
    "        return prediction "
   ]
  },
  {
   "cell_type": "markdown",
   "metadata": {},
   "source": [
    "b) Write a function softmax(arr) that applies the softmax operation to a Numpy array:\n",
    "\n",
    "<img src=\"equation.jpg\" width=\"350\" height=\"107\">\n",
    "\n",
    "\n",
    "The softmax operation is commonly used to normalize the output layer in multi-class models to get a\n",
    "probabilistic vector."
   ]
  },
  {
   "cell_type": "code",
   "execution_count": 9,
   "metadata": {},
   "outputs": [],
   "source": [
    "def softmax(arr):\n",
    "    e_x = np.exp(arr - np.max(arr))\n",
    "    return e_x / e_x.sum()"
   ]
  },
  {
   "cell_type": "markdown",
   "metadata": {},
   "source": [
    "c) Use the network’s query method to feed your handwritten digit into the network. Divide the image\n",
    "array by 255 before you pass it to the query method. Apply the softmax function to the output vector\n",
    "and verify that the sum of its entries equals 1."
   ]
  },
  {
   "cell_type": "code",
   "execution_count": 12,
   "metadata": {},
   "outputs": [
    {
     "name": "stdout",
     "output_type": "stream",
     "text": [
      "Sum of softmax output: 1.0\n"
     ]
    }
   ],
   "source": [
    "iNodes = 784 # The images are 28x28 pixels\n",
    "hNodes = 100 # An educated guess\n",
    "oNodes = 10 # Ten digits\n",
    "\n",
    "lRate = 0.3 # More on that next week\n",
    "\n",
    "neural_net = neuralNetwork(iNodes, hNodes, oNodes, lRate) # Create an instance of the network\n",
    "\n",
    "# Normalize image array\n",
    "input_data = (np.array(imgRe).reshape((imgSize * imgSize))) / 255\n",
    "\n",
    "output = neural_net.query(input_data)\n",
    " \n",
    "softmax_output = softmax(output) # Normalize\n",
    " \n",
    "# Verify\n",
    "print(\"Sum of softmax output:\", softmax_output.sum())"
   ]
  }
 ],
 "metadata": {
  "kernelspec": {
   "display_name": "base",
   "language": "python",
   "name": "python3"
  },
  "language_info": {
   "codemirror_mode": {
    "name": "ipython",
    "version": 3
   },
   "file_extension": ".py",
   "mimetype": "text/x-python",
   "name": "python",
   "nbconvert_exporter": "python",
   "pygments_lexer": "ipython3",
   "version": "3.11.4"
  }
 },
 "nbformat": 4,
 "nbformat_minor": 2
}
